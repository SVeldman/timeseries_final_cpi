{
  "nbformat": 4,
  "nbformat_minor": 0,
  "metadata": {
    "colab": {
      "provenance": [],
      "collapsed_sections": [
        "f9dquhedpisH",
        "TbXpBYDOps02",
        "tFSHCcjbrSI_",
        "sMPGWVu3rWT9",
        "idKIDieFr4JD",
        "UBWIZPGNtCWd",
        "_XbuRqoVuD5A",
        "qGpKHRZBwZvW"
      ]
    },
    "kernelspec": {
      "name": "ir",
      "display_name": "R"
    },
    "language_info": {
      "name": "R"
    }
  },
  "cells": [
    {
      "cell_type": "markdown",
      "source": [
        "# Uploading Datasets"
      ],
      "metadata": {
        "id": "f9dquhedpisH"
      }
    },
    {
      "cell_type": "code",
      "source": [
        "library(readxl)\n",
        "library(tidyr)\n",
        "library(dplyr)\n",
        "library(lubridate)\n",
        "install.packages(\"tseries\")\n",
        "library(tseries)\n",
        "install.packages(\"forecast\")\n",
        "library(forecast)\n",
        "library(readr)"
      ],
      "metadata": {
        "colab": {
          "base_uri": "https://localhost:8080/"
        },
        "id": "1_hyBZ2YfGBe",
        "outputId": "b20bcf4b-f29a-4f0d-8eb5-5194501aed3d"
      },
      "execution_count": null,
      "outputs": [
        {
          "output_type": "stream",
          "name": "stderr",
          "text": [
            "\n",
            "Attaching package: ‘dplyr’\n",
            "\n",
            "\n",
            "The following objects are masked from ‘package:stats’:\n",
            "\n",
            "    filter, lag\n",
            "\n",
            "\n",
            "The following objects are masked from ‘package:base’:\n",
            "\n",
            "    intersect, setdiff, setequal, union\n",
            "\n",
            "\n",
            "\n",
            "Attaching package: ‘lubridate’\n",
            "\n",
            "\n",
            "The following objects are masked from ‘package:base’:\n",
            "\n",
            "    date, intersect, setdiff, union\n",
            "\n",
            "\n",
            "Installing package into ‘/usr/local/lib/R/site-library’\n",
            "(as ‘lib’ is unspecified)\n",
            "\n",
            "also installing the dependencies ‘xts’, ‘TTR’, ‘quadprog’, ‘zoo’, ‘quantmod’\n",
            "\n",
            "\n",
            "Registered S3 method overwritten by 'quantmod':\n",
            "  method            from\n",
            "  as.zoo.data.frame zoo \n",
            "\n",
            "Installing package into ‘/usr/local/lib/R/site-library’\n",
            "(as ‘lib’ is unspecified)\n",
            "\n",
            "also installing the dependencies ‘colorspace’, ‘fracdiff’, ‘lmtest’, ‘timeDate’, ‘urca’, ‘RcppArmadillo’\n",
            "\n",
            "\n"
          ]
        }
      ]
    },
    {
      "cell_type": "code",
      "source": [
        "library(readr)"
      ],
      "metadata": {
        "id": "bjek8R36MuXq"
      },
      "execution_count": null,
      "outputs": []
    },
    {
      "cell_type": "code",
      "source": [
        "# Convert Dropbox share link to direct download link\n",
        "url <- \"https://www.dropbox.com/scl/fi/gwzzyzeno35c660xt4u61/FEDFUNDS.xlsx?rlkey=uli5gi5gpe3ubkjv6ii3yphm1&st=dthbmrdv&dl=1\"\n",
        "\n",
        "# Create temporary file and download\n",
        "temp <- tempfile(fileext = \".xlsx\")\n",
        "download.file(url, destfile = temp, mode = \"wb\")\n",
        "\n",
        "# Read Excel file\n",
        "fedfunds <- read_excel(temp, sheet = \"Monthly\")"
      ],
      "metadata": {
        "id": "Ck5fU2bice5B"
      },
      "execution_count": null,
      "outputs": []
    },
    {
      "cell_type": "code",
      "source": [
        "excel_sheets(temp)"
      ],
      "metadata": {
        "colab": {
          "base_uri": "https://localhost:8080/",
          "height": 34
        },
        "id": "4dXV7-xufKQu",
        "outputId": "f0f7ac4b-700f-4ff5-9448-d7a94ee6b4d8"
      },
      "execution_count": null,
      "outputs": [
        {
          "output_type": "display_data",
          "data": {
            "text/html": [
              "<style>\n",
              ".list-inline {list-style: none; margin:0; padding: 0}\n",
              ".list-inline>li {display: inline-block}\n",
              ".list-inline>li:not(:last-child)::after {content: \"\\00b7\"; padding: 0 .5ex}\n",
              "</style>\n",
              "<ol class=list-inline><li>'README'</li><li>'Monthly'</li></ol>\n"
            ],
            "text/markdown": "1. 'README'\n2. 'Monthly'\n\n\n",
            "text/latex": "\\begin{enumerate*}\n\\item 'README'\n\\item 'Monthly'\n\\end{enumerate*}\n",
            "text/plain": [
              "[1] \"README\"  \"Monthly\""
            ]
          },
          "metadata": {}
        }
      ]
    },
    {
      "cell_type": "code",
      "source": [
        "head(fedfunds)"
      ],
      "metadata": {
        "colab": {
          "base_uri": "https://localhost:8080/",
          "height": 286
        },
        "id": "T1nceS1CfpaH",
        "outputId": "b0a86536-0787-4e93-eaa4-f4ac13418100"
      },
      "execution_count": null,
      "outputs": [
        {
          "output_type": "display_data",
          "data": {
            "text/html": [
              "<table class=\"dataframe\">\n",
              "<caption>A tibble: 6 × 2</caption>\n",
              "<thead>\n",
              "\t<tr><th scope=col>observation_date</th><th scope=col>FEDFUNDS</th></tr>\n",
              "\t<tr><th scope=col>&lt;dttm&gt;</th><th scope=col>&lt;dbl&gt;</th></tr>\n",
              "</thead>\n",
              "<tbody>\n",
              "\t<tr><td>1954-07-01</td><td>0.80</td></tr>\n",
              "\t<tr><td>1954-08-01</td><td>1.22</td></tr>\n",
              "\t<tr><td>1954-09-01</td><td>1.07</td></tr>\n",
              "\t<tr><td>1954-10-01</td><td>0.85</td></tr>\n",
              "\t<tr><td>1954-11-01</td><td>0.83</td></tr>\n",
              "\t<tr><td>1954-12-01</td><td>1.28</td></tr>\n",
              "</tbody>\n",
              "</table>\n"
            ],
            "text/markdown": "\nA tibble: 6 × 2\n\n| observation_date &lt;dttm&gt; | FEDFUNDS &lt;dbl&gt; |\n|---|---|\n| 1954-07-01 | 0.80 |\n| 1954-08-01 | 1.22 |\n| 1954-09-01 | 1.07 |\n| 1954-10-01 | 0.85 |\n| 1954-11-01 | 0.83 |\n| 1954-12-01 | 1.28 |\n\n",
            "text/latex": "A tibble: 6 × 2\n\\begin{tabular}{ll}\n observation\\_date & FEDFUNDS\\\\\n <dttm> & <dbl>\\\\\n\\hline\n\t 1954-07-01 & 0.80\\\\\n\t 1954-08-01 & 1.22\\\\\n\t 1954-09-01 & 1.07\\\\\n\t 1954-10-01 & 0.85\\\\\n\t 1954-11-01 & 0.83\\\\\n\t 1954-12-01 & 1.28\\\\\n\\end{tabular}\n",
            "text/plain": [
              "  observation_date FEDFUNDS\n",
              "1 1954-07-01       0.80    \n",
              "2 1954-08-01       1.22    \n",
              "3 1954-09-01       1.07    \n",
              "4 1954-10-01       0.85    \n",
              "5 1954-11-01       0.83    \n",
              "6 1954-12-01       1.28    "
            ]
          },
          "metadata": {}
        }
      ]
    },
    {
      "cell_type": "code",
      "source": [
        "url <- \"https://www.dropbox.com/scl/fi/qmfaxp0hyp6x2lzg603rn/National-CPI.xlsx?rlkey=19vpa9o5qub5miaprpfr1eoc1&st=7pq1jpm6&dl=1\"\n",
        "temp1 <- tempfile(fileext = \".xlsx\")\n",
        "download.file(url, destfile = temp1, mode = \"wb\")\n",
        "\n",
        "excel_sheets(temp1)"
      ],
      "metadata": {
        "colab": {
          "base_uri": "https://localhost:8080/",
          "height": 34
        },
        "id": "lcLftCd9f6dp",
        "outputId": "84c28843-8ff3-45a7-9a24-1f5042da67c5"
      },
      "execution_count": null,
      "outputs": [
        {
          "output_type": "display_data",
          "data": {
            "text/html": [
              "'BLS Data Series'"
            ],
            "text/markdown": "'BLS Data Series'",
            "text/latex": "'BLS Data Series'",
            "text/plain": [
              "[1] \"BLS Data Series\""
            ]
          },
          "metadata": {}
        }
      ]
    },
    {
      "cell_type": "code",
      "source": [
        "cpi <- read_excel(temp1, sheet = 1, skip = 11)"
      ],
      "metadata": {
        "id": "JzpyPoDzgBXd"
      },
      "execution_count": null,
      "outputs": []
    },
    {
      "cell_type": "code",
      "source": [
        "head(cpi)"
      ],
      "metadata": {
        "colab": {
          "base_uri": "https://localhost:8080/",
          "height": 286
        },
        "id": "HfJ4jVZ3gDBw",
        "outputId": "92f98b34-16b7-44a3-e638-d6446446861a"
      },
      "execution_count": null,
      "outputs": [
        {
          "output_type": "display_data",
          "data": {
            "text/html": [
              "<table class=\"dataframe\">\n",
              "<caption>A tibble: 6 × 13</caption>\n",
              "<thead>\n",
              "\t<tr><th scope=col>Year</th><th scope=col>Jan</th><th scope=col>Feb</th><th scope=col>Mar</th><th scope=col>Apr</th><th scope=col>May</th><th scope=col>Jun</th><th scope=col>Jul</th><th scope=col>Aug</th><th scope=col>Sep</th><th scope=col>Oct</th><th scope=col>Nov</th><th scope=col>Dec</th></tr>\n",
              "\t<tr><th scope=col>&lt;dbl&gt;</th><th scope=col>&lt;dbl&gt;</th><th scope=col>&lt;dbl&gt;</th><th scope=col>&lt;dbl&gt;</th><th scope=col>&lt;dbl&gt;</th><th scope=col>&lt;dbl&gt;</th><th scope=col>&lt;dbl&gt;</th><th scope=col>&lt;dbl&gt;</th><th scope=col>&lt;dbl&gt;</th><th scope=col>&lt;dbl&gt;</th><th scope=col>&lt;dbl&gt;</th><th scope=col>&lt;dbl&gt;</th><th scope=col>&lt;dbl&gt;</th></tr>\n",
              "</thead>\n",
              "<tbody>\n",
              "\t<tr><td>1913</td><td> 9.8</td><td> 9.8</td><td> 9.8</td><td> 9.8</td><td> 9.7</td><td> 9.8</td><td> 9.9</td><td> 9.9</td><td>10.0</td><td>10.0</td><td>10.1</td><td>10.0</td></tr>\n",
              "\t<tr><td>1914</td><td>10.0</td><td> 9.9</td><td> 9.9</td><td> 9.8</td><td> 9.9</td><td> 9.9</td><td>10.0</td><td>10.2</td><td>10.2</td><td>10.1</td><td>10.2</td><td>10.1</td></tr>\n",
              "\t<tr><td>1915</td><td>10.1</td><td>10.0</td><td> 9.9</td><td>10.0</td><td>10.1</td><td>10.1</td><td>10.1</td><td>10.1</td><td>10.1</td><td>10.2</td><td>10.3</td><td>10.3</td></tr>\n",
              "\t<tr><td>1916</td><td>10.4</td><td>10.4</td><td>10.5</td><td>10.6</td><td>10.7</td><td>10.8</td><td>10.8</td><td>10.9</td><td>11.1</td><td>11.3</td><td>11.5</td><td>11.6</td></tr>\n",
              "\t<tr><td>1917</td><td>11.7</td><td>12.0</td><td>12.0</td><td>12.6</td><td>12.8</td><td>13.0</td><td>12.8</td><td>13.0</td><td>13.3</td><td>13.5</td><td>13.5</td><td>13.7</td></tr>\n",
              "\t<tr><td>1918</td><td>14.0</td><td>14.1</td><td>14.0</td><td>14.2</td><td>14.5</td><td>14.7</td><td>15.1</td><td>15.4</td><td>15.7</td><td>16.0</td><td>16.3</td><td>16.5</td></tr>\n",
              "</tbody>\n",
              "</table>\n"
            ],
            "text/markdown": "\nA tibble: 6 × 13\n\n| Year &lt;dbl&gt; | Jan &lt;dbl&gt; | Feb &lt;dbl&gt; | Mar &lt;dbl&gt; | Apr &lt;dbl&gt; | May &lt;dbl&gt; | Jun &lt;dbl&gt; | Jul &lt;dbl&gt; | Aug &lt;dbl&gt; | Sep &lt;dbl&gt; | Oct &lt;dbl&gt; | Nov &lt;dbl&gt; | Dec &lt;dbl&gt; |\n|---|---|---|---|---|---|---|---|---|---|---|---|---|\n| 1913 |  9.8 |  9.8 |  9.8 |  9.8 |  9.7 |  9.8 |  9.9 |  9.9 | 10.0 | 10.0 | 10.1 | 10.0 |\n| 1914 | 10.0 |  9.9 |  9.9 |  9.8 |  9.9 |  9.9 | 10.0 | 10.2 | 10.2 | 10.1 | 10.2 | 10.1 |\n| 1915 | 10.1 | 10.0 |  9.9 | 10.0 | 10.1 | 10.1 | 10.1 | 10.1 | 10.1 | 10.2 | 10.3 | 10.3 |\n| 1916 | 10.4 | 10.4 | 10.5 | 10.6 | 10.7 | 10.8 | 10.8 | 10.9 | 11.1 | 11.3 | 11.5 | 11.6 |\n| 1917 | 11.7 | 12.0 | 12.0 | 12.6 | 12.8 | 13.0 | 12.8 | 13.0 | 13.3 | 13.5 | 13.5 | 13.7 |\n| 1918 | 14.0 | 14.1 | 14.0 | 14.2 | 14.5 | 14.7 | 15.1 | 15.4 | 15.7 | 16.0 | 16.3 | 16.5 |\n\n",
            "text/latex": "A tibble: 6 × 13\n\\begin{tabular}{lllllllllllll}\n Year & Jan & Feb & Mar & Apr & May & Jun & Jul & Aug & Sep & Oct & Nov & Dec\\\\\n <dbl> & <dbl> & <dbl> & <dbl> & <dbl> & <dbl> & <dbl> & <dbl> & <dbl> & <dbl> & <dbl> & <dbl> & <dbl>\\\\\n\\hline\n\t 1913 &  9.8 &  9.8 &  9.8 &  9.8 &  9.7 &  9.8 &  9.9 &  9.9 & 10.0 & 10.0 & 10.1 & 10.0\\\\\n\t 1914 & 10.0 &  9.9 &  9.9 &  9.8 &  9.9 &  9.9 & 10.0 & 10.2 & 10.2 & 10.1 & 10.2 & 10.1\\\\\n\t 1915 & 10.1 & 10.0 &  9.9 & 10.0 & 10.1 & 10.1 & 10.1 & 10.1 & 10.1 & 10.2 & 10.3 & 10.3\\\\\n\t 1916 & 10.4 & 10.4 & 10.5 & 10.6 & 10.7 & 10.8 & 10.8 & 10.9 & 11.1 & 11.3 & 11.5 & 11.6\\\\\n\t 1917 & 11.7 & 12.0 & 12.0 & 12.6 & 12.8 & 13.0 & 12.8 & 13.0 & 13.3 & 13.5 & 13.5 & 13.7\\\\\n\t 1918 & 14.0 & 14.1 & 14.0 & 14.2 & 14.5 & 14.7 & 15.1 & 15.4 & 15.7 & 16.0 & 16.3 & 16.5\\\\\n\\end{tabular}\n",
            "text/plain": [
              "  Year Jan  Feb  Mar  Apr  May  Jun  Jul  Aug  Sep  Oct  Nov  Dec \n",
              "1 1913  9.8  9.8  9.8  9.8  9.7  9.8  9.9  9.9 10.0 10.0 10.1 10.0\n",
              "2 1914 10.0  9.9  9.9  9.8  9.9  9.9 10.0 10.2 10.2 10.1 10.2 10.1\n",
              "3 1915 10.1 10.0  9.9 10.0 10.1 10.1 10.1 10.1 10.1 10.2 10.3 10.3\n",
              "4 1916 10.4 10.4 10.5 10.6 10.7 10.8 10.8 10.9 11.1 11.3 11.5 11.6\n",
              "5 1917 11.7 12.0 12.0 12.6 12.8 13.0 12.8 13.0 13.3 13.5 13.5 13.7\n",
              "6 1918 14.0 14.1 14.0 14.2 14.5 14.7 15.1 15.4 15.7 16.0 16.3 16.5"
            ]
          },
          "metadata": {}
        }
      ]
    },
    {
      "cell_type": "code",
      "source": [
        "url <- \"https://www.dropbox.com/scl/fi/oir01f9e0hufsyf6th8fx/Employment.xlsx?rlkey=2rcy2uu5ss4pfuf2il2uqvl9u&st=8wglt5vd&dl=1\"\n",
        "temp2 <- tempfile(fileext = \".xlsx\")\n",
        "download.file(url, destfile = temp2, mode = \"wb\")\n",
        "\n",
        "excel_sheets(temp2)"
      ],
      "metadata": {
        "colab": {
          "base_uri": "https://localhost:8080/",
          "height": 34
        },
        "id": "5qWO84q4lK3b",
        "outputId": "3d6ca537-484e-40d4-8cd1-8d8c97a73a57"
      },
      "execution_count": null,
      "outputs": [
        {
          "output_type": "display_data",
          "data": {
            "text/html": [
              "'BLS Data Series'"
            ],
            "text/markdown": "'BLS Data Series'",
            "text/latex": "'BLS Data Series'",
            "text/plain": [
              "[1] \"BLS Data Series\""
            ]
          },
          "metadata": {}
        }
      ]
    },
    {
      "cell_type": "code",
      "source": [
        "unemployment <- read_excel(temp2, sheet = 1, skip = 11)\n",
        "\n",
        "head(unemployment)"
      ],
      "metadata": {
        "colab": {
          "base_uri": "https://localhost:8080/",
          "height": 286
        },
        "id": "ii1pADO1lc1M",
        "outputId": "50b91acc-8f93-4f2a-ff23-3c9f31da0645"
      },
      "execution_count": null,
      "outputs": [
        {
          "output_type": "display_data",
          "data": {
            "text/html": [
              "<table class=\"dataframe\">\n",
              "<caption>A tibble: 6 × 13</caption>\n",
              "<thead>\n",
              "\t<tr><th scope=col>Year</th><th scope=col>Jan</th><th scope=col>Feb</th><th scope=col>Mar</th><th scope=col>Apr</th><th scope=col>May</th><th scope=col>Jun</th><th scope=col>Jul</th><th scope=col>Aug</th><th scope=col>Sep</th><th scope=col>Oct</th><th scope=col>Nov</th><th scope=col>Dec</th></tr>\n",
              "\t<tr><th scope=col>&lt;dbl&gt;</th><th scope=col>&lt;dbl&gt;</th><th scope=col>&lt;dbl&gt;</th><th scope=col>&lt;dbl&gt;</th><th scope=col>&lt;dbl&gt;</th><th scope=col>&lt;dbl&gt;</th><th scope=col>&lt;dbl&gt;</th><th scope=col>&lt;dbl&gt;</th><th scope=col>&lt;dbl&gt;</th><th scope=col>&lt;dbl&gt;</th><th scope=col>&lt;dbl&gt;</th><th scope=col>&lt;dbl&gt;</th><th scope=col>&lt;dbl&gt;</th></tr>\n",
              "</thead>\n",
              "<tbody>\n",
              "\t<tr><td>1948</td><td>3.4</td><td>3.8</td><td>4.0</td><td>3.9</td><td>3.5</td><td>3.6</td><td>3.6</td><td>3.9</td><td>3.8</td><td>3.7</td><td>3.8</td><td>4.0</td></tr>\n",
              "\t<tr><td>1949</td><td>4.3</td><td>4.7</td><td>5.0</td><td>5.3</td><td>6.1</td><td>6.2</td><td>6.7</td><td>6.8</td><td>6.6</td><td>7.9</td><td>6.4</td><td>6.6</td></tr>\n",
              "\t<tr><td>1950</td><td>6.5</td><td>6.4</td><td>6.3</td><td>5.8</td><td>5.5</td><td>5.4</td><td>5.0</td><td>4.5</td><td>4.4</td><td>4.2</td><td>4.2</td><td>4.3</td></tr>\n",
              "\t<tr><td>1951</td><td>3.7</td><td>3.4</td><td>3.4</td><td>3.1</td><td>3.0</td><td>3.2</td><td>3.1</td><td>3.1</td><td>3.3</td><td>3.5</td><td>3.5</td><td>3.1</td></tr>\n",
              "\t<tr><td>1952</td><td>3.2</td><td>3.1</td><td>2.9</td><td>2.9</td><td>3.0</td><td>3.0</td><td>3.2</td><td>3.4</td><td>3.1</td><td>3.0</td><td>2.8</td><td>2.7</td></tr>\n",
              "\t<tr><td>1953</td><td>2.9</td><td>2.6</td><td>2.6</td><td>2.7</td><td>2.5</td><td>2.5</td><td>2.6</td><td>2.7</td><td>2.9</td><td>3.1</td><td>3.5</td><td>4.5</td></tr>\n",
              "</tbody>\n",
              "</table>\n"
            ],
            "text/markdown": "\nA tibble: 6 × 13\n\n| Year &lt;dbl&gt; | Jan &lt;dbl&gt; | Feb &lt;dbl&gt; | Mar &lt;dbl&gt; | Apr &lt;dbl&gt; | May &lt;dbl&gt; | Jun &lt;dbl&gt; | Jul &lt;dbl&gt; | Aug &lt;dbl&gt; | Sep &lt;dbl&gt; | Oct &lt;dbl&gt; | Nov &lt;dbl&gt; | Dec &lt;dbl&gt; |\n|---|---|---|---|---|---|---|---|---|---|---|---|---|\n| 1948 | 3.4 | 3.8 | 4.0 | 3.9 | 3.5 | 3.6 | 3.6 | 3.9 | 3.8 | 3.7 | 3.8 | 4.0 |\n| 1949 | 4.3 | 4.7 | 5.0 | 5.3 | 6.1 | 6.2 | 6.7 | 6.8 | 6.6 | 7.9 | 6.4 | 6.6 |\n| 1950 | 6.5 | 6.4 | 6.3 | 5.8 | 5.5 | 5.4 | 5.0 | 4.5 | 4.4 | 4.2 | 4.2 | 4.3 |\n| 1951 | 3.7 | 3.4 | 3.4 | 3.1 | 3.0 | 3.2 | 3.1 | 3.1 | 3.3 | 3.5 | 3.5 | 3.1 |\n| 1952 | 3.2 | 3.1 | 2.9 | 2.9 | 3.0 | 3.0 | 3.2 | 3.4 | 3.1 | 3.0 | 2.8 | 2.7 |\n| 1953 | 2.9 | 2.6 | 2.6 | 2.7 | 2.5 | 2.5 | 2.6 | 2.7 | 2.9 | 3.1 | 3.5 | 4.5 |\n\n",
            "text/latex": "A tibble: 6 × 13\n\\begin{tabular}{lllllllllllll}\n Year & Jan & Feb & Mar & Apr & May & Jun & Jul & Aug & Sep & Oct & Nov & Dec\\\\\n <dbl> & <dbl> & <dbl> & <dbl> & <dbl> & <dbl> & <dbl> & <dbl> & <dbl> & <dbl> & <dbl> & <dbl> & <dbl>\\\\\n\\hline\n\t 1948 & 3.4 & 3.8 & 4.0 & 3.9 & 3.5 & 3.6 & 3.6 & 3.9 & 3.8 & 3.7 & 3.8 & 4.0\\\\\n\t 1949 & 4.3 & 4.7 & 5.0 & 5.3 & 6.1 & 6.2 & 6.7 & 6.8 & 6.6 & 7.9 & 6.4 & 6.6\\\\\n\t 1950 & 6.5 & 6.4 & 6.3 & 5.8 & 5.5 & 5.4 & 5.0 & 4.5 & 4.4 & 4.2 & 4.2 & 4.3\\\\\n\t 1951 & 3.7 & 3.4 & 3.4 & 3.1 & 3.0 & 3.2 & 3.1 & 3.1 & 3.3 & 3.5 & 3.5 & 3.1\\\\\n\t 1952 & 3.2 & 3.1 & 2.9 & 2.9 & 3.0 & 3.0 & 3.2 & 3.4 & 3.1 & 3.0 & 2.8 & 2.7\\\\\n\t 1953 & 2.9 & 2.6 & 2.6 & 2.7 & 2.5 & 2.5 & 2.6 & 2.7 & 2.9 & 3.1 & 3.5 & 4.5\\\\\n\\end{tabular}\n",
            "text/plain": [
              "  Year Jan Feb Mar Apr May Jun Jul Aug Sep Oct Nov Dec\n",
              "1 1948 3.4 3.8 4.0 3.9 3.5 3.6 3.6 3.9 3.8 3.7 3.8 4.0\n",
              "2 1949 4.3 4.7 5.0 5.3 6.1 6.2 6.7 6.8 6.6 7.9 6.4 6.6\n",
              "3 1950 6.5 6.4 6.3 5.8 5.5 5.4 5.0 4.5 4.4 4.2 4.2 4.3\n",
              "4 1951 3.7 3.4 3.4 3.1 3.0 3.2 3.1 3.1 3.3 3.5 3.5 3.1\n",
              "5 1952 3.2 3.1 2.9 2.9 3.0 3.0 3.2 3.4 3.1 3.0 2.8 2.7\n",
              "6 1953 2.9 2.6 2.6 2.7 2.5 2.5 2.6 2.7 2.9 3.1 3.5 4.5"
            ]
          },
          "metadata": {}
        }
      ]
    },
    {
      "cell_type": "code",
      "source": [
        "url <- \"https://www.dropbox.com/scl/fi/zmwe4ilaeh2vrjgte8vkh/Hourly-Earnings.xlsx?rlkey=hofb46a6isa62wvg9r8e8br9u&st=ljg5h2cp&dl=1\"\n",
        "temp3 <- tempfile(fileext = \".xlsx\")\n",
        "download.file(url, destfile = temp3, mode = \"wb\")\n",
        "\n",
        "excel_sheets(temp3)"
      ],
      "metadata": {
        "colab": {
          "base_uri": "https://localhost:8080/",
          "height": 34
        },
        "id": "Mhz8VzKdlpzX",
        "outputId": "1493d5f9-9c71-4383-d8d6-65413956920b"
      },
      "execution_count": null,
      "outputs": [
        {
          "output_type": "display_data",
          "data": {
            "text/html": [
              "'BLS Data Series'"
            ],
            "text/markdown": "'BLS Data Series'",
            "text/latex": "'BLS Data Series'",
            "text/plain": [
              "[1] \"BLS Data Series\""
            ]
          },
          "metadata": {}
        }
      ]
    },
    {
      "cell_type": "code",
      "source": [
        "hourly_earnings <- read_excel(temp3, sheet = 1, skip = 12)\n",
        "\n",
        "head(hourly_earnings)"
      ],
      "metadata": {
        "colab": {
          "base_uri": "https://localhost:8080/",
          "height": 286
        },
        "id": "Z-aOi2_el6E5",
        "outputId": "77b6ceca-1422-4763-e81c-0af36e1a1ca1"
      },
      "execution_count": null,
      "outputs": [
        {
          "output_type": "display_data",
          "data": {
            "text/html": [
              "<table class=\"dataframe\">\n",
              "<caption>A tibble: 6 × 13</caption>\n",
              "<thead>\n",
              "\t<tr><th scope=col>Year</th><th scope=col>Jan</th><th scope=col>Feb</th><th scope=col>Mar</th><th scope=col>Apr</th><th scope=col>May</th><th scope=col>Jun</th><th scope=col>Jul</th><th scope=col>Aug</th><th scope=col>Sep</th><th scope=col>Oct</th><th scope=col>Nov</th><th scope=col>Dec</th></tr>\n",
              "\t<tr><th scope=col>&lt;dbl&gt;</th><th scope=col>&lt;dbl&gt;</th><th scope=col>&lt;dbl&gt;</th><th scope=col>&lt;dbl&gt;</th><th scope=col>&lt;dbl&gt;</th><th scope=col>&lt;dbl&gt;</th><th scope=col>&lt;dbl&gt;</th><th scope=col>&lt;dbl&gt;</th><th scope=col>&lt;dbl&gt;</th><th scope=col>&lt;dbl&gt;</th><th scope=col>&lt;dbl&gt;</th><th scope=col>&lt;dbl&gt;</th><th scope=col>&lt;dbl&gt;</th></tr>\n",
              "</thead>\n",
              "<tbody>\n",
              "\t<tr><td>2006</td><td>   NA</td><td>   NA</td><td>20.05</td><td>20.15</td><td>20.13</td><td>20.23</td><td>20.29</td><td>20.32</td><td>20.40</td><td>20.42</td><td>20.49</td><td>20.58</td></tr>\n",
              "\t<tr><td>2007</td><td>20.59</td><td>20.68</td><td>20.73</td><td>20.77</td><td>20.84</td><td>20.95</td><td>20.94</td><td>21.00</td><td>21.04</td><td>21.07</td><td>21.12</td><td>21.16</td></tr>\n",
              "\t<tr><td>2008</td><td>21.19</td><td>21.27</td><td>21.35</td><td>21.38</td><td>21.47</td><td>21.52</td><td>21.61</td><td>21.70</td><td>21.73</td><td>21.76</td><td>21.86</td><td>21.94</td></tr>\n",
              "\t<tr><td>2009</td><td>21.96</td><td>21.98</td><td>22.05</td><td>22.10</td><td>22.12</td><td>22.14</td><td>22.18</td><td>22.23</td><td>22.27</td><td>22.31</td><td>22.33</td><td>22.37</td></tr>\n",
              "\t<tr><td>2010</td><td>22.41</td><td>22.46</td><td>22.46</td><td>22.49</td><td>22.51</td><td>22.53</td><td>22.59</td><td>22.62</td><td>22.67</td><td>22.74</td><td>22.73</td><td>22.76</td></tr>\n",
              "\t<tr><td>2011</td><td>22.87</td><td>22.87</td><td>22.87</td><td>22.91</td><td>22.97</td><td>23.01</td><td>23.11</td><td>23.07</td><td>23.11</td><td>23.18</td><td>23.19</td><td>23.22</td></tr>\n",
              "</tbody>\n",
              "</table>\n"
            ],
            "text/markdown": "\nA tibble: 6 × 13\n\n| Year &lt;dbl&gt; | Jan &lt;dbl&gt; | Feb &lt;dbl&gt; | Mar &lt;dbl&gt; | Apr &lt;dbl&gt; | May &lt;dbl&gt; | Jun &lt;dbl&gt; | Jul &lt;dbl&gt; | Aug &lt;dbl&gt; | Sep &lt;dbl&gt; | Oct &lt;dbl&gt; | Nov &lt;dbl&gt; | Dec &lt;dbl&gt; |\n|---|---|---|---|---|---|---|---|---|---|---|---|---|\n| 2006 |    NA |    NA | 20.05 | 20.15 | 20.13 | 20.23 | 20.29 | 20.32 | 20.40 | 20.42 | 20.49 | 20.58 |\n| 2007 | 20.59 | 20.68 | 20.73 | 20.77 | 20.84 | 20.95 | 20.94 | 21.00 | 21.04 | 21.07 | 21.12 | 21.16 |\n| 2008 | 21.19 | 21.27 | 21.35 | 21.38 | 21.47 | 21.52 | 21.61 | 21.70 | 21.73 | 21.76 | 21.86 | 21.94 |\n| 2009 | 21.96 | 21.98 | 22.05 | 22.10 | 22.12 | 22.14 | 22.18 | 22.23 | 22.27 | 22.31 | 22.33 | 22.37 |\n| 2010 | 22.41 | 22.46 | 22.46 | 22.49 | 22.51 | 22.53 | 22.59 | 22.62 | 22.67 | 22.74 | 22.73 | 22.76 |\n| 2011 | 22.87 | 22.87 | 22.87 | 22.91 | 22.97 | 23.01 | 23.11 | 23.07 | 23.11 | 23.18 | 23.19 | 23.22 |\n\n",
            "text/latex": "A tibble: 6 × 13\n\\begin{tabular}{lllllllllllll}\n Year & Jan & Feb & Mar & Apr & May & Jun & Jul & Aug & Sep & Oct & Nov & Dec\\\\\n <dbl> & <dbl> & <dbl> & <dbl> & <dbl> & <dbl> & <dbl> & <dbl> & <dbl> & <dbl> & <dbl> & <dbl> & <dbl>\\\\\n\\hline\n\t 2006 &    NA &    NA & 20.05 & 20.15 & 20.13 & 20.23 & 20.29 & 20.32 & 20.40 & 20.42 & 20.49 & 20.58\\\\\n\t 2007 & 20.59 & 20.68 & 20.73 & 20.77 & 20.84 & 20.95 & 20.94 & 21.00 & 21.04 & 21.07 & 21.12 & 21.16\\\\\n\t 2008 & 21.19 & 21.27 & 21.35 & 21.38 & 21.47 & 21.52 & 21.61 & 21.70 & 21.73 & 21.76 & 21.86 & 21.94\\\\\n\t 2009 & 21.96 & 21.98 & 22.05 & 22.10 & 22.12 & 22.14 & 22.18 & 22.23 & 22.27 & 22.31 & 22.33 & 22.37\\\\\n\t 2010 & 22.41 & 22.46 & 22.46 & 22.49 & 22.51 & 22.53 & 22.59 & 22.62 & 22.67 & 22.74 & 22.73 & 22.76\\\\\n\t 2011 & 22.87 & 22.87 & 22.87 & 22.91 & 22.97 & 23.01 & 23.11 & 23.07 & 23.11 & 23.18 & 23.19 & 23.22\\\\\n\\end{tabular}\n",
            "text/plain": [
              "  Year Jan   Feb   Mar   Apr   May   Jun   Jul   Aug   Sep   Oct   Nov   Dec  \n",
              "1 2006    NA    NA 20.05 20.15 20.13 20.23 20.29 20.32 20.40 20.42 20.49 20.58\n",
              "2 2007 20.59 20.68 20.73 20.77 20.84 20.95 20.94 21.00 21.04 21.07 21.12 21.16\n",
              "3 2008 21.19 21.27 21.35 21.38 21.47 21.52 21.61 21.70 21.73 21.76 21.86 21.94\n",
              "4 2009 21.96 21.98 22.05 22.10 22.12 22.14 22.18 22.23 22.27 22.31 22.33 22.37\n",
              "5 2010 22.41 22.46 22.46 22.49 22.51 22.53 22.59 22.62 22.67 22.74 22.73 22.76\n",
              "6 2011 22.87 22.87 22.87 22.91 22.97 23.01 23.11 23.07 23.11 23.18 23.19 23.22"
            ]
          },
          "metadata": {}
        }
      ]
    },
    {
      "cell_type": "code",
      "source": [
        "url <- \"https://www.dropbox.com/scl/fi/yw2jalpoishr608qntz6d/Weekly-Wage.xlsx?rlkey=84l8injqc4j85xxvl1ex3c8fe&st=9ukyog2r&dl=1\"\n",
        "temp4 <- tempfile(fileext = \".xlsx\")\n",
        "download.file(url, destfile = temp4, mode = \"wb\")\n",
        "\n",
        "excel_sheets(temp4)"
      ],
      "metadata": {
        "colab": {
          "base_uri": "https://localhost:8080/",
          "height": 34
        },
        "id": "Ed7EK7U8mfQx",
        "outputId": "3ffccfff-a46b-404e-ca59-3ccdd632ae05"
      },
      "execution_count": null,
      "outputs": [
        {
          "output_type": "display_data",
          "data": {
            "text/html": [
              "'BLS Data Series'"
            ],
            "text/markdown": "'BLS Data Series'",
            "text/latex": "'BLS Data Series'",
            "text/plain": [
              "[1] \"BLS Data Series\""
            ]
          },
          "metadata": {}
        }
      ]
    },
    {
      "cell_type": "code",
      "source": [
        "weekly_wage <- read_excel(temp4, sheet = 1, skip = 19)\n",
        "\n",
        "head(weekly_wage)"
      ],
      "metadata": {
        "colab": {
          "base_uri": "https://localhost:8080/",
          "height": 286
        },
        "id": "Lqw56JcHmvIv",
        "outputId": "402bd530-199c-4fb7-bfee-b1db6900ff72"
      },
      "execution_count": null,
      "outputs": [
        {
          "output_type": "display_data",
          "data": {
            "text/html": [
              "<table class=\"dataframe\">\n",
              "<caption>A tibble: 6 × 5</caption>\n",
              "<thead>\n",
              "\t<tr><th scope=col>Year</th><th scope=col>Qtr1</th><th scope=col>Qtr2</th><th scope=col>Qtr3</th><th scope=col>Qtr4</th></tr>\n",
              "\t<tr><th scope=col>&lt;dbl&gt;</th><th scope=col>&lt;dbl&gt;</th><th scope=col>&lt;dbl&gt;</th><th scope=col>&lt;dbl&gt;</th><th scope=col>&lt;dbl&gt;</th></tr>\n",
              "</thead>\n",
              "<tbody>\n",
              "\t<tr><td>1979</td><td>234</td><td>239</td><td>240</td><td>249</td></tr>\n",
              "\t<tr><td>1980</td><td>256</td><td>257</td><td>262</td><td>271</td></tr>\n",
              "\t<tr><td>1981</td><td>278</td><td>279</td><td>281</td><td>294</td></tr>\n",
              "\t<tr><td>1982</td><td>298</td><td>301</td><td>299</td><td>308</td></tr>\n",
              "\t<tr><td>1983</td><td>311</td><td>311</td><td>311</td><td>318</td></tr>\n",
              "\t<tr><td>1984</td><td>323</td><td>323</td><td>322</td><td>335</td></tr>\n",
              "</tbody>\n",
              "</table>\n"
            ],
            "text/markdown": "\nA tibble: 6 × 5\n\n| Year &lt;dbl&gt; | Qtr1 &lt;dbl&gt; | Qtr2 &lt;dbl&gt; | Qtr3 &lt;dbl&gt; | Qtr4 &lt;dbl&gt; |\n|---|---|---|---|---|\n| 1979 | 234 | 239 | 240 | 249 |\n| 1980 | 256 | 257 | 262 | 271 |\n| 1981 | 278 | 279 | 281 | 294 |\n| 1982 | 298 | 301 | 299 | 308 |\n| 1983 | 311 | 311 | 311 | 318 |\n| 1984 | 323 | 323 | 322 | 335 |\n\n",
            "text/latex": "A tibble: 6 × 5\n\\begin{tabular}{lllll}\n Year & Qtr1 & Qtr2 & Qtr3 & Qtr4\\\\\n <dbl> & <dbl> & <dbl> & <dbl> & <dbl>\\\\\n\\hline\n\t 1979 & 234 & 239 & 240 & 249\\\\\n\t 1980 & 256 & 257 & 262 & 271\\\\\n\t 1981 & 278 & 279 & 281 & 294\\\\\n\t 1982 & 298 & 301 & 299 & 308\\\\\n\t 1983 & 311 & 311 & 311 & 318\\\\\n\t 1984 & 323 & 323 & 322 & 335\\\\\n\\end{tabular}\n",
            "text/plain": [
              "  Year Qtr1 Qtr2 Qtr3 Qtr4\n",
              "1 1979 234  239  240  249 \n",
              "2 1980 256  257  262  271 \n",
              "3 1981 278  279  281  294 \n",
              "4 1982 298  301  299  308 \n",
              "5 1983 311  311  311  318 \n",
              "6 1984 323  323  322  335 "
            ]
          },
          "metadata": {}
        }
      ]
    },
    {
      "cell_type": "code",
      "source": [
        "url <- \"https://www.dropbox.com/scl/fi/ofo0eypcviebypci9unz1/PPI.xlsx?rlkey=0q32frnshx453i7zntjoygphe&st=sa26u2zx&dl=1\"\n",
        "temp5 <- tempfile(fileext = \".xlsx\")\n",
        "download.file(url, destfile = temp5, mode = \"wb\")\n",
        "\n",
        "excel_sheets(temp5)"
      ],
      "metadata": {
        "colab": {
          "base_uri": "https://localhost:8080/",
          "height": 34
        },
        "id": "Zx8Aau6ynAGy",
        "outputId": "ee593de8-7859-4b34-f770-b2b3866911b9"
      },
      "execution_count": null,
      "outputs": [
        {
          "output_type": "display_data",
          "data": {
            "text/html": [
              "'BLS Data Series'"
            ],
            "text/markdown": "'BLS Data Series'",
            "text/latex": "'BLS Data Series'",
            "text/plain": [
              "[1] \"BLS Data Series\""
            ]
          },
          "metadata": {}
        }
      ]
    },
    {
      "cell_type": "code",
      "source": [
        "# Producer Price Index\n",
        "ppi <- read_excel(temp5, sheet = 1, skip = 10)\n",
        "\n",
        "head(ppi)"
      ],
      "metadata": {
        "colab": {
          "base_uri": "https://localhost:8080/",
          "height": 286
        },
        "id": "jLo5A906nHkd",
        "outputId": "5fccaf9f-9f66-4151-c3e5-41f46f63debb"
      },
      "execution_count": null,
      "outputs": [
        {
          "output_type": "display_data",
          "data": {
            "text/html": [
              "<table class=\"dataframe\">\n",
              "<caption>A tibble: 6 × 13</caption>\n",
              "<thead>\n",
              "\t<tr><th scope=col>Year</th><th scope=col>Jan</th><th scope=col>Feb</th><th scope=col>Mar</th><th scope=col>Apr</th><th scope=col>May</th><th scope=col>Jun</th><th scope=col>Jul</th><th scope=col>Aug</th><th scope=col>Sep</th><th scope=col>Oct</th><th scope=col>Nov</th><th scope=col>Dec</th></tr>\n",
              "\t<tr><th scope=col>&lt;dbl&gt;</th><th scope=col>&lt;dbl&gt;</th><th scope=col>&lt;dbl&gt;</th><th scope=col>&lt;dbl&gt;</th><th scope=col>&lt;dbl&gt;</th><th scope=col>&lt;dbl&gt;</th><th scope=col>&lt;dbl&gt;</th><th scope=col>&lt;dbl&gt;</th><th scope=col>&lt;dbl&gt;</th><th scope=col>&lt;dbl&gt;</th><th scope=col>&lt;dbl&gt;</th><th scope=col>&lt;dbl&gt;</th><th scope=col>&lt;dbl&gt;</th></tr>\n",
              "</thead>\n",
              "<tbody>\n",
              "\t<tr><td>1984</td><td>   NA</td><td>   NA</td><td>   NA</td><td>   NA</td><td>   NA</td><td>   NA</td><td>   NA</td><td>   NA</td><td>   NA</td><td>   NA</td><td>   NA</td><td>100.0</td></tr>\n",
              "\t<tr><td>1986</td><td>101.3</td><td> 99.9</td><td> 98.3</td><td> 97.9</td><td> 98.2</td><td> 98.2</td><td> 97.5</td><td> 97.4</td><td> 97.6</td><td> 98.2</td><td> 98.3</td><td> 98.3</td></tr>\n",
              "\t<tr><td>1987</td><td> 99.1</td><td> 99.5</td><td> 99.5</td><td>100.2</td><td>100.6</td><td>100.9</td><td>101.3</td><td>101.6</td><td>101.3</td><td>102.0</td><td>102.2</td><td>102.1</td></tr>\n",
              "\t<tr><td>1988</td><td>102.4</td><td>102.6</td><td>102.8</td><td>103.4</td><td>103.9</td><td>104.3</td><td>104.9</td><td>105.1</td><td>105.1</td><td>105.6</td><td>106.1</td><td>106.4</td></tr>\n",
              "\t<tr><td>1989</td><td>107.5</td><td>107.9</td><td>108.5</td><td>109.4</td><td>110.1</td><td>110.1</td><td>109.9</td><td>109.6</td><td>109.9</td><td>110.8</td><td>110.8</td><td>111.0</td></tr>\n",
              "\t<tr><td>1990</td><td>112.7</td><td>112.2</td><td>112.3</td><td>112.6</td><td>113.1</td><td>113.1</td><td>113.2</td><td>114.6</td><td>116.2</td><td>118.1</td><td>118.2</td><td>117.2</td></tr>\n",
              "</tbody>\n",
              "</table>\n"
            ],
            "text/markdown": "\nA tibble: 6 × 13\n\n| Year &lt;dbl&gt; | Jan &lt;dbl&gt; | Feb &lt;dbl&gt; | Mar &lt;dbl&gt; | Apr &lt;dbl&gt; | May &lt;dbl&gt; | Jun &lt;dbl&gt; | Jul &lt;dbl&gt; | Aug &lt;dbl&gt; | Sep &lt;dbl&gt; | Oct &lt;dbl&gt; | Nov &lt;dbl&gt; | Dec &lt;dbl&gt; |\n|---|---|---|---|---|---|---|---|---|---|---|---|---|\n| 1984 |    NA |    NA |    NA |    NA |    NA |    NA |    NA |    NA |    NA |    NA |    NA | 100.0 |\n| 1986 | 101.3 |  99.9 |  98.3 |  97.9 |  98.2 |  98.2 |  97.5 |  97.4 |  97.6 |  98.2 |  98.3 |  98.3 |\n| 1987 |  99.1 |  99.5 |  99.5 | 100.2 | 100.6 | 100.9 | 101.3 | 101.6 | 101.3 | 102.0 | 102.2 | 102.1 |\n| 1988 | 102.4 | 102.6 | 102.8 | 103.4 | 103.9 | 104.3 | 104.9 | 105.1 | 105.1 | 105.6 | 106.1 | 106.4 |\n| 1989 | 107.5 | 107.9 | 108.5 | 109.4 | 110.1 | 110.1 | 109.9 | 109.6 | 109.9 | 110.8 | 110.8 | 111.0 |\n| 1990 | 112.7 | 112.2 | 112.3 | 112.6 | 113.1 | 113.1 | 113.2 | 114.6 | 116.2 | 118.1 | 118.2 | 117.2 |\n\n",
            "text/latex": "A tibble: 6 × 13\n\\begin{tabular}{lllllllllllll}\n Year & Jan & Feb & Mar & Apr & May & Jun & Jul & Aug & Sep & Oct & Nov & Dec\\\\\n <dbl> & <dbl> & <dbl> & <dbl> & <dbl> & <dbl> & <dbl> & <dbl> & <dbl> & <dbl> & <dbl> & <dbl> & <dbl>\\\\\n\\hline\n\t 1984 &    NA &    NA &    NA &    NA &    NA &    NA &    NA &    NA &    NA &    NA &    NA & 100.0\\\\\n\t 1986 & 101.3 &  99.9 &  98.3 &  97.9 &  98.2 &  98.2 &  97.5 &  97.4 &  97.6 &  98.2 &  98.3 &  98.3\\\\\n\t 1987 &  99.1 &  99.5 &  99.5 & 100.2 & 100.6 & 100.9 & 101.3 & 101.6 & 101.3 & 102.0 & 102.2 & 102.1\\\\\n\t 1988 & 102.4 & 102.6 & 102.8 & 103.4 & 103.9 & 104.3 & 104.9 & 105.1 & 105.1 & 105.6 & 106.1 & 106.4\\\\\n\t 1989 & 107.5 & 107.9 & 108.5 & 109.4 & 110.1 & 110.1 & 109.9 & 109.6 & 109.9 & 110.8 & 110.8 & 111.0\\\\\n\t 1990 & 112.7 & 112.2 & 112.3 & 112.6 & 113.1 & 113.1 & 113.2 & 114.6 & 116.2 & 118.1 & 118.2 & 117.2\\\\\n\\end{tabular}\n",
            "text/plain": [
              "  Year Jan   Feb   Mar   Apr   May   Jun   Jul   Aug   Sep   Oct   Nov   Dec  \n",
              "1 1984    NA    NA    NA    NA    NA    NA    NA    NA    NA    NA    NA 100.0\n",
              "2 1986 101.3  99.9  98.3  97.9  98.2  98.2  97.5  97.4  97.6  98.2  98.3  98.3\n",
              "3 1987  99.1  99.5  99.5 100.2 100.6 100.9 101.3 101.6 101.3 102.0 102.2 102.1\n",
              "4 1988 102.4 102.6 102.8 103.4 103.9 104.3 104.9 105.1 105.1 105.6 106.1 106.4\n",
              "5 1989 107.5 107.9 108.5 109.4 110.1 110.1 109.9 109.6 109.9 110.8 110.8 111.0\n",
              "6 1990 112.7 112.2 112.3 112.6 113.1 113.1 113.2 114.6 116.2 118.1 118.2 117.2"
            ]
          },
          "metadata": {}
        }
      ]
    },
    {
      "cell_type": "code",
      "source": [
        "url <- \"https://www.dropbox.com/scl/fi/iriasohzvqkp8y6ajskg3/MSPUS.xlsx?rlkey=og0eo1huyecc6qida1t5ixenp&st=gire9ep6&dl=1\"\n",
        "temp6 <- tempfile(fileext = \".xlsx\")\n",
        "download.file(url, destfile = temp6, mode = \"wb\")\n",
        "\n",
        "excel_sheets(temp6)"
      ],
      "metadata": {
        "colab": {
          "base_uri": "https://localhost:8080/",
          "height": 34
        },
        "id": "kpekMFH3nnkx",
        "outputId": "08392bb0-6065-4bc1-9f97-9cc766b41b66"
      },
      "execution_count": null,
      "outputs": [
        {
          "output_type": "display_data",
          "data": {
            "text/html": [
              "<style>\n",
              ".list-inline {list-style: none; margin:0; padding: 0}\n",
              ".list-inline>li {display: inline-block}\n",
              ".list-inline>li:not(:last-child)::after {content: \"\\00b7\"; padding: 0 .5ex}\n",
              "</style>\n",
              "<ol class=list-inline><li>'README'</li><li>'Quarterly'</li></ol>\n"
            ],
            "text/markdown": "1. 'README'\n2. 'Quarterly'\n\n\n",
            "text/latex": "\\begin{enumerate*}\n\\item 'README'\n\\item 'Quarterly'\n\\end{enumerate*}\n",
            "text/plain": [
              "[1] \"README\"    \"Quarterly\""
            ]
          },
          "metadata": {}
        }
      ]
    },
    {
      "cell_type": "code",
      "source": [
        "median_home_price <- read_excel(temp6, sheet = \"Quarterly\")\n",
        "\n",
        "head(median_home_price)"
      ],
      "metadata": {
        "colab": {
          "base_uri": "https://localhost:8080/",
          "height": 286
        },
        "id": "_LVm_88rnxR5",
        "outputId": "2b168c4d-5403-45ce-e721-18aec4fe4a31"
      },
      "execution_count": null,
      "outputs": [
        {
          "output_type": "display_data",
          "data": {
            "text/html": [
              "<table class=\"dataframe\">\n",
              "<caption>A tibble: 6 × 2</caption>\n",
              "<thead>\n",
              "\t<tr><th scope=col>observation_date</th><th scope=col>MSPUS</th></tr>\n",
              "\t<tr><th scope=col>&lt;dttm&gt;</th><th scope=col>&lt;dbl&gt;</th></tr>\n",
              "</thead>\n",
              "<tbody>\n",
              "\t<tr><td>1963-01-01</td><td>17800</td></tr>\n",
              "\t<tr><td>1963-04-01</td><td>18000</td></tr>\n",
              "\t<tr><td>1963-07-01</td><td>17900</td></tr>\n",
              "\t<tr><td>1963-10-01</td><td>18500</td></tr>\n",
              "\t<tr><td>1964-01-01</td><td>18500</td></tr>\n",
              "\t<tr><td>1964-04-01</td><td>18900</td></tr>\n",
              "</tbody>\n",
              "</table>\n"
            ],
            "text/markdown": "\nA tibble: 6 × 2\n\n| observation_date &lt;dttm&gt; | MSPUS &lt;dbl&gt; |\n|---|---|\n| 1963-01-01 | 17800 |\n| 1963-04-01 | 18000 |\n| 1963-07-01 | 17900 |\n| 1963-10-01 | 18500 |\n| 1964-01-01 | 18500 |\n| 1964-04-01 | 18900 |\n\n",
            "text/latex": "A tibble: 6 × 2\n\\begin{tabular}{ll}\n observation\\_date & MSPUS\\\\\n <dttm> & <dbl>\\\\\n\\hline\n\t 1963-01-01 & 17800\\\\\n\t 1963-04-01 & 18000\\\\\n\t 1963-07-01 & 17900\\\\\n\t 1963-10-01 & 18500\\\\\n\t 1964-01-01 & 18500\\\\\n\t 1964-04-01 & 18900\\\\\n\\end{tabular}\n",
            "text/plain": [
              "  observation_date MSPUS\n",
              "1 1963-01-01       17800\n",
              "2 1963-04-01       18000\n",
              "3 1963-07-01       17900\n",
              "4 1963-10-01       18500\n",
              "5 1964-01-01       18500\n",
              "6 1964-04-01       18900"
            ]
          },
          "metadata": {}
        }
      ]
    },
    {
      "cell_type": "code",
      "source": [
        "url <- \"https://www.dropbox.com/scl/fi/zsiiizomc5l9bdh5me6dm/RHORUSQ156N.xlsx?rlkey=mqz121152xxxykthewo51vdal&st=s1ziyl1s&dl=1\"\n",
        "temp7 <- tempfile(fileext = \".xlsx\")\n",
        "download.file(url, destfile = temp7, mode = \"wb\")\n",
        "\n",
        "excel_sheets(temp7)"
      ],
      "metadata": {
        "colab": {
          "base_uri": "https://localhost:8080/",
          "height": 34
        },
        "id": "faAppaxgoP-_",
        "outputId": "67a3f344-8ade-4633-d065-e9bba20ac599"
      },
      "execution_count": null,
      "outputs": [
        {
          "output_type": "display_data",
          "data": {
            "text/html": [
              "<style>\n",
              ".list-inline {list-style: none; margin:0; padding: 0}\n",
              ".list-inline>li {display: inline-block}\n",
              ".list-inline>li:not(:last-child)::after {content: \"\\00b7\"; padding: 0 .5ex}\n",
              "</style>\n",
              "<ol class=list-inline><li>'README'</li><li>'Quarterly'</li></ol>\n"
            ],
            "text/markdown": "1. 'README'\n2. 'Quarterly'\n\n\n",
            "text/latex": "\\begin{enumerate*}\n\\item 'README'\n\\item 'Quarterly'\n\\end{enumerate*}\n",
            "text/plain": [
              "[1] \"README\"    \"Quarterly\""
            ]
          },
          "metadata": {}
        }
      ]
    },
    {
      "cell_type": "code",
      "source": [
        "# Rate of Homeownership US\n",
        "\n",
        "owner_rate <- read_excel(temp7, sheet = \"Quarterly\")\n",
        "\n",
        "head(owner_rate)"
      ],
      "metadata": {
        "colab": {
          "base_uri": "https://localhost:8080/",
          "height": 286
        },
        "id": "Khfixe13op_Z",
        "outputId": "23cdec5f-2957-4512-f149-e5864f2908bb"
      },
      "execution_count": null,
      "outputs": [
        {
          "output_type": "display_data",
          "data": {
            "text/html": [
              "<table class=\"dataframe\">\n",
              "<caption>A tibble: 6 × 2</caption>\n",
              "<thead>\n",
              "\t<tr><th scope=col>observation_date</th><th scope=col>RHORUSQ156N</th></tr>\n",
              "\t<tr><th scope=col>&lt;dttm&gt;</th><th scope=col>&lt;dbl&gt;</th></tr>\n",
              "</thead>\n",
              "<tbody>\n",
              "\t<tr><td>1965-01-01</td><td>62.9</td></tr>\n",
              "\t<tr><td>1965-04-01</td><td>62.9</td></tr>\n",
              "\t<tr><td>1965-07-01</td><td>62.9</td></tr>\n",
              "\t<tr><td>1965-10-01</td><td>63.4</td></tr>\n",
              "\t<tr><td>1966-01-01</td><td>63.5</td></tr>\n",
              "\t<tr><td>1966-04-01</td><td>63.2</td></tr>\n",
              "</tbody>\n",
              "</table>\n"
            ],
            "text/markdown": "\nA tibble: 6 × 2\n\n| observation_date &lt;dttm&gt; | RHORUSQ156N &lt;dbl&gt; |\n|---|---|\n| 1965-01-01 | 62.9 |\n| 1965-04-01 | 62.9 |\n| 1965-07-01 | 62.9 |\n| 1965-10-01 | 63.4 |\n| 1966-01-01 | 63.5 |\n| 1966-04-01 | 63.2 |\n\n",
            "text/latex": "A tibble: 6 × 2\n\\begin{tabular}{ll}\n observation\\_date & RHORUSQ156N\\\\\n <dttm> & <dbl>\\\\\n\\hline\n\t 1965-01-01 & 62.9\\\\\n\t 1965-04-01 & 62.9\\\\\n\t 1965-07-01 & 62.9\\\\\n\t 1965-10-01 & 63.4\\\\\n\t 1966-01-01 & 63.5\\\\\n\t 1966-04-01 & 63.2\\\\\n\\end{tabular}\n",
            "text/plain": [
              "  observation_date RHORUSQ156N\n",
              "1 1965-01-01       62.9       \n",
              "2 1965-04-01       62.9       \n",
              "3 1965-07-01       62.9       \n",
              "4 1965-10-01       63.4       \n",
              "5 1966-01-01       63.5       \n",
              "6 1966-04-01       63.2       "
            ]
          },
          "metadata": {}
        }
      ]
    },
    {
      "cell_type": "code",
      "source": [
        "url <- \"https://www.dropbox.com/scl/fi/zrf9rt3epnc504a25k5wz/Home-Price-Index.xlsx?rlkey=vlbud6hojieampnx0xom7uzqp&st=ft3h3mni&dl=1\"\n",
        "temp8 <- tempfile(fileext = \".xlsx\")\n",
        "download.file(url, destfile = temp8, mode = \"wb\")\n",
        "\n",
        "excel_sheets(temp8)"
      ],
      "metadata": {
        "colab": {
          "base_uri": "https://localhost:8080/",
          "height": 34
        },
        "id": "Q9snB61NOFqX",
        "outputId": "652b1a8b-c303-4fb4-a971-716721558d8c"
      },
      "execution_count": null,
      "outputs": [
        {
          "output_type": "display_data",
          "data": {
            "text/html": [
              "<style>\n",
              ".list-inline {list-style: none; margin:0; padding: 0}\n",
              ".list-inline>li {display: inline-block}\n",
              ".list-inline>li:not(:last-child)::after {content: \"\\00b7\"; padding: 0 .5ex}\n",
              "</style>\n",
              "<ol class=list-inline><li>'README'</li><li>'Monthly'</li></ol>\n"
            ],
            "text/markdown": "1. 'README'\n2. 'Monthly'\n\n\n",
            "text/latex": "\\begin{enumerate*}\n\\item 'README'\n\\item 'Monthly'\n\\end{enumerate*}\n",
            "text/plain": [
              "[1] \"README\"  \"Monthly\""
            ]
          },
          "metadata": {}
        }
      ]
    },
    {
      "cell_type": "code",
      "source": [
        "housing_index <- read_excel(temp8, sheet = \"Monthly\")\n",
        "\n",
        "head(housing_index)"
      ],
      "metadata": {
        "colab": {
          "base_uri": "https://localhost:8080/",
          "height": 286
        },
        "id": "PZc5QHzjOO-p",
        "outputId": "f0fb22df-085e-44a4-8db9-608f1fdf4a22"
      },
      "execution_count": null,
      "outputs": [
        {
          "output_type": "display_data",
          "data": {
            "text/html": [
              "<table class=\"dataframe\">\n",
              "<caption>A tibble: 6 × 2</caption>\n",
              "<thead>\n",
              "\t<tr><th scope=col>observation_date</th><th scope=col>CSUSHPINSA</th></tr>\n",
              "\t<tr><th scope=col>&lt;dttm&gt;</th><th scope=col>&lt;dbl&gt;</th></tr>\n",
              "</thead>\n",
              "<tbody>\n",
              "\t<tr><td>1987-01-01</td><td>63.733</td></tr>\n",
              "\t<tr><td>1987-02-01</td><td>64.132</td></tr>\n",
              "\t<tr><td>1987-03-01</td><td>64.468</td></tr>\n",
              "\t<tr><td>1987-04-01</td><td>64.973</td></tr>\n",
              "\t<tr><td>1987-05-01</td><td>65.547</td></tr>\n",
              "\t<tr><td>1987-06-01</td><td>66.218</td></tr>\n",
              "</tbody>\n",
              "</table>\n"
            ],
            "text/markdown": "\nA tibble: 6 × 2\n\n| observation_date &lt;dttm&gt; | CSUSHPINSA &lt;dbl&gt; |\n|---|---|\n| 1987-01-01 | 63.733 |\n| 1987-02-01 | 64.132 |\n| 1987-03-01 | 64.468 |\n| 1987-04-01 | 64.973 |\n| 1987-05-01 | 65.547 |\n| 1987-06-01 | 66.218 |\n\n",
            "text/latex": "A tibble: 6 × 2\n\\begin{tabular}{ll}\n observation\\_date & CSUSHPINSA\\\\\n <dttm> & <dbl>\\\\\n\\hline\n\t 1987-01-01 & 63.733\\\\\n\t 1987-02-01 & 64.132\\\\\n\t 1987-03-01 & 64.468\\\\\n\t 1987-04-01 & 64.973\\\\\n\t 1987-05-01 & 65.547\\\\\n\t 1987-06-01 & 66.218\\\\\n\\end{tabular}\n",
            "text/plain": [
              "  observation_date CSUSHPINSA\n",
              "1 1987-01-01       63.733    \n",
              "2 1987-02-01       64.132    \n",
              "3 1987-03-01       64.468    \n",
              "4 1987-04-01       64.973    \n",
              "5 1987-05-01       65.547    \n",
              "6 1987-06-01       66.218    "
            ]
          },
          "metadata": {}
        }
      ]
    },
    {
      "cell_type": "markdown",
      "source": [
        "# Data Processing"
      ],
      "metadata": {
        "id": "TbXpBYDOps02"
      }
    },
    {
      "cell_type": "markdown",
      "source": [
        "## National CPI"
      ],
      "metadata": {
        "id": "tFSHCcjbrSI_"
      }
    },
    {
      "cell_type": "code",
      "source": [
        "cpi_long <- cpi %>%\n",
        "  pivot_longer(\n",
        "    cols = -Year,\n",
        "    names_to = \"Month\",\n",
        "    values_to = \"CPI\"\n",
        "  )"
      ],
      "metadata": {
        "id": "n34SnkU2p1rb"
      },
      "execution_count": null,
      "outputs": []
    },
    {
      "cell_type": "code",
      "source": [
        "cpi_long <- cpi_long %>%\n",
        "  mutate(\n",
        "    Month = match(Month, month.abb),\n",
        "    Date = as.Date(sprintf(\"%d-%02d-01\", Year, Month))\n",
        "  ) %>%\n",
        "  arrange(Date)"
      ],
      "metadata": {
        "id": "QEvk8fSSqgKG"
      },
      "execution_count": null,
      "outputs": []
    },
    {
      "cell_type": "code",
      "source": [
        "# Change start date if neededed\n",
        "\n",
        "cpi_ts <- ts(cpi_long$CPI, start = c(min(cpi_long$Year), 1), frequency = 12)"
      ],
      "metadata": {
        "id": "eAGXN4qZqjmI"
      },
      "execution_count": null,
      "outputs": []
    },
    {
      "cell_type": "code",
      "source": [
        "plot(cpi_ts, main = \"Monthly CPI - National\", ylab = \"CPI\", xlab = \"Year\")"
      ],
      "metadata": {
        "colab": {
          "base_uri": "https://localhost:8080/",
          "height": 437
        },
        "id": "eEDhwdsiqopU",
        "outputId": "510eb2bb-681f-423c-fd28-9a3401a7c824"
      },
      "execution_count": null,
      "outputs": [
        {
          "output_type": "display_data",
          "data": {
            "text/plain": [
              "Plot with title “Monthly CPI - National”"
            ],
            "image/png": "[encoded data removed]"
          },
          "metadata": {
            "image/png": {
              "width": 420,
              "height": 420
            }
          }
        }
      ]
    },
    {
      "cell_type": "markdown",
      "source": [
        "## Fed Rate"
      ],
      "metadata": {
        "id": "sMPGWVu3rWT9"
      }
    },
    {
      "cell_type": "code",
      "source": [
        "# Extract start year and month\n",
        "start_year <- year(min(fedfunds$observation_date))\n",
        "start_month <- month(min(fedfunds$observation_date))\n",
        "\n",
        "# Convert to time series\n",
        "fedfunds_ts <- ts(fedfunds$FEDFUNDS, start = c(start_year, start_month), frequency = 12)"
      ],
      "metadata": {
        "id": "BSQDyLWtrYYh"
      },
      "execution_count": null,
      "outputs": []
    },
    {
      "cell_type": "code",
      "source": [
        "plot(fedfunds_ts, main = \"Federal Funds Rate\", ylab = \"Rate (%)\", xlab = \"Year\")"
      ],
      "metadata": {
        "colab": {
          "base_uri": "https://localhost:8080/",
          "height": 437
        },
        "id": "t9sGO7-drgG-",
        "outputId": "99fa72c2-9833-42a7-e624-89813775500b"
      },
      "execution_count": null,
      "outputs": [
        {
          "output_type": "display_data",
          "data": {
            "text/plain": [
              "Plot with title “Federal Funds Rate”"
            ],
            "image/png": "[encoded data removed]"
          },
          "metadata": {
            "image/png": {
              "width": 420,
              "height": 420
            }
          }
        }
      ]
    },
    {
      "cell_type": "markdown",
      "source": [
        "## Unemployment Rate"
      ],
      "metadata": {
        "id": "idKIDieFr4JD"
      }
    },
    {
      "cell_type": "code",
      "source": [
        "unemployment_long <- unemployment %>%\n",
        "  pivot_longer(\n",
        "    cols = -Year,\n",
        "    names_to = \"Month\",\n",
        "    values_to = \"Unemployment Rate\"\n",
        "  )"
      ],
      "metadata": {
        "id": "AIJ_aHzQr6Yd"
      },
      "execution_count": null,
      "outputs": []
    },
    {
      "cell_type": "code",
      "source": [
        "unemployment_long <- unemployment_long %>%\n",
        "  mutate(\n",
        "    Month = match(Month, month.abb),\n",
        "    Date = as.Date(sprintf(\"%d-%02d-01\", Year, Month))\n",
        "  ) %>%\n",
        "  arrange(Date)"
      ],
      "metadata": {
        "id": "vIcrBk4qsdpq"
      },
      "execution_count": null,
      "outputs": []
    },
    {
      "cell_type": "code",
      "source": [
        "unemployment_ts <- ts(unemployment_long$`Unemployment Rate`, start = c(min(unemployment_long$Year), 1), frequency = 12)"
      ],
      "metadata": {
        "id": "H4sAf7jUskjR"
      },
      "execution_count": null,
      "outputs": []
    },
    {
      "cell_type": "code",
      "source": [
        "plot(unemployment_ts, main = \"Monthly Unemployment Rate - US\", ylab = \"Unemployment Rate\")"
      ],
      "metadata": {
        "colab": {
          "base_uri": "https://localhost:8080/",
          "height": 437
        },
        "id": "F4gm0NdlsryS",
        "outputId": "7ac360b4-40f8-45c2-9c66-49376d02ed6f"
      },
      "execution_count": null,
      "outputs": [
        {
          "output_type": "display_data",
          "data": {
            "text/plain": [
              "Plot with title “Monthly Unemployment Rate - US”"
            ],
            "image/png": "[encoded data removed]"
          },
          "metadata": {
            "image/png": {
              "width": 420,
              "height": 420
            }
          }
        }
      ]
    },
    {
      "cell_type": "markdown",
      "source": [
        "## Hourly Earnings"
      ],
      "metadata": {
        "id": "UBWIZPGNtCWd"
      }
    },
    {
      "cell_type": "code",
      "source": [
        "hourly_earnings_long <- hourly_earnings %>%\n",
        "  pivot_longer(\n",
        "    cols = -Year,\n",
        "    names_to = \"Month\",\n",
        "    values_to = \"Hourly Earnings\"\n",
        "  )\n",
        "\n",
        "  hourly_earnings_long <- hourly_earnings_long %>%\n",
        "  mutate(\n",
        "    Month = match(Month, month.abb),\n",
        "    Date = as.Date(sprintf(\"%d-%02d-01\", Year, Month))\n",
        "  ) %>%\n",
        "  arrange(Date)"
      ],
      "metadata": {
        "id": "ILYIi9nHtEQb"
      },
      "execution_count": null,
      "outputs": []
    },
    {
      "cell_type": "code",
      "source": [
        "hourly_earnings_ts <- ts(hourly_earnings_long$`Hourly Earnings`, start = c(min(hourly_earnings_long$Year), 1), frequency = 12)"
      ],
      "metadata": {
        "id": "k_d_sgyXtS2I"
      },
      "execution_count": null,
      "outputs": []
    },
    {
      "cell_type": "code",
      "source": [
        "plot(hourly_earnings_ts, main = \"Monthly Hourly Earnings - US\", ylab = \"Hourly Earnings\")"
      ],
      "metadata": {
        "colab": {
          "base_uri": "https://localhost:8080/",
          "height": 437
        },
        "id": "u1aS_Lb7ta5z",
        "outputId": "37c8ccc8-ade6-49c8-e265-f2142c4c1690"
      },
      "execution_count": null,
      "outputs": [
        {
          "output_type": "display_data",
          "data": {
            "text/plain": [
              "Plot with title “Monthly Hourly Earnings - US”"
            ],
            "image/png": "[encoded data removed]"
          },
          "metadata": {
            "image/png": {
              "width": 420,
              "height": 420
            }
          }
        }
      ]
    },
    {
      "cell_type": "markdown",
      "source": [
        "## Weekly Wages by Quarter"
      ],
      "metadata": {
        "id": "_XbuRqoVuD5A"
      }
    },
    {
      "cell_type": "code",
      "source": [
        "weekly_wage_long <- weekly_wage %>%\n",
        "  pivot_longer(\n",
        "    cols = -Year,\n",
        "    names_to = \"Quarter\",\n",
        "    values_to = \"Weekly Wage\"\n",
        "  ) %>%\n",
        "  mutate(\n",
        "    Quarter = parse_number(Quarter),\n",
        "    Date = as.Date(paste(Year, (Quarter - 1) * 3 + 1, \"01\", sep = \"-\"))\n",
        "  ) %>%\n",
        "  arrange(Date)"
      ],
      "metadata": {
        "id": "PJ1AbAVMubrn"
      },
      "execution_count": null,
      "outputs": []
    },
    {
      "cell_type": "code",
      "source": [
        "wage_ts <- ts(weekly_wage_long$`Weekly Wage`, start = c(1979, 1), frequency = 4)"
      ],
      "metadata": {
        "id": "zJ2m9T2cufoo"
      },
      "execution_count": null,
      "outputs": []
    },
    {
      "cell_type": "code",
      "source": [
        "plot(wage_ts, main = \"Quarterly Weekly Wage\", ylab = \"Weekly Wage\")"
      ],
      "metadata": {
        "colab": {
          "base_uri": "https://localhost:8080/",
          "height": 437
        },
        "id": "F-WiRWT4uguJ",
        "outputId": "152f72c8-a995-4ee9-b41a-12292bb72aa6"
      },
      "execution_count": null,
      "outputs": [
        {
          "output_type": "display_data",
          "data": {
            "text/plain": [
              "Plot with title “Quarterly Weekly Wage”"
            ],
            "image/png": "[encoded data removed]"
          },
          "metadata": {
            "image/png": {
              "width": 420,
              "height": 420
            }
          }
        }
      ]
    },
    {
      "cell_type": "markdown",
      "source": [
        "## Producer Price Index - (Just something interesting i found, delete if not useful)"
      ],
      "metadata": {
        "id": "qh4xD6bSu0Va"
      }
    },
    {
      "cell_type": "code",
      "source": [
        "ppi_long <- ppi %>%\n",
        "  pivot_longer(\n",
        "    cols = -Year,\n",
        "    names_to = \"Month\",\n",
        "    values_to = \"PPI\"\n",
        "  )\n",
        "\n",
        "  ppi_long <- ppi_long %>%\n",
        "  mutate(\n",
        "    Month = match(Month, month.abb),\n",
        "    Date = as.Date(sprintf(\"%d-%02d-01\", Year, Month))\n",
        "  ) %>%\n",
        "  arrange(Date)"
      ],
      "metadata": {
        "id": "i8NwT_R7u6iU"
      },
      "execution_count": null,
      "outputs": []
    },
    {
      "cell_type": "code",
      "source": [
        "ppi_ts <- ts(ppi_long$`PPI`, start = c(1986, 1), frequency = 12)"
      ],
      "metadata": {
        "id": "C1eDk3GqvEmy"
      },
      "execution_count": null,
      "outputs": []
    },
    {
      "cell_type": "code",
      "source": [
        "plot(ppi_ts, main = \"Montly PPI\", ylab = \"PPI\")"
      ],
      "metadata": {
        "colab": {
          "base_uri": "https://localhost:8080/",
          "height": 437
        },
        "id": "Y6DEUp30vMVF",
        "outputId": "1f6f6ffb-272b-4450-b45d-99ce4c039948"
      },
      "execution_count": null,
      "outputs": [
        {
          "output_type": "display_data",
          "data": {
            "text/plain": [
              "Plot with title “Montly PPI”"
            ],
            "image/png": "[encoded data removed]"
          },
          "metadata": {
            "image/png": {
              "width": 420,
              "height": 420
            }
          }
        }
      ]
    },
    {
      "cell_type": "code",
      "source": [
        "end(ppi_ts)"
      ],
      "metadata": {
        "colab": {
          "base_uri": "https://localhost:8080/",
          "height": 34
        },
        "id": "OJVOCOudUMz8",
        "outputId": "9b0e298e-6d72-420a-88c6-1a640f94731a"
      },
      "execution_count": null,
      "outputs": [
        {
          "output_type": "display_data",
          "data": {
            "text/html": [
              "<style>\n",
              ".list-inline {list-style: none; margin:0; padding: 0}\n",
              ".list-inline>li {display: inline-block}\n",
              ".list-inline>li:not(:last-child)::after {content: \"\\00b7\"; padding: 0 .5ex}\n",
              "</style>\n",
              "<ol class=list-inline><li>2026</li><li>12</li></ol>\n"
            ],
            "text/markdown": "1. 2026\n2. 12\n\n\n",
            "text/latex": "\\begin{enumerate*}\n\\item 2026\n\\item 12\n\\end{enumerate*}\n",
            "text/plain": [
              "[1] 2026   12"
            ]
          },
          "metadata": {}
        }
      ]
    },
    {
      "cell_type": "markdown",
      "source": [
        "## Median Home Sale Price - Quarterly"
      ],
      "metadata": {
        "id": "8kx3XLBBv4O7"
      }
    },
    {
      "cell_type": "code",
      "source": [
        "home_price_ts <- ts(\n",
        "  median_home_price$MSPUS,\n",
        "  start = c(1963, 1),\n",
        "  frequency = 4\n",
        ")"
      ],
      "metadata": {
        "id": "gmmgCqZBv8AE"
      },
      "execution_count": null,
      "outputs": []
    },
    {
      "cell_type": "code",
      "source": [
        "plot(home_price_ts, main = \"Median Home Sale Price - Quarterly\", ylab = \"Sale Price\")"
      ],
      "metadata": {
        "colab": {
          "base_uri": "https://localhost:8080/",
          "height": 437
        },
        "id": "DFQoAQaSwIhx",
        "outputId": "68e0bd8f-ff3e-42a3-fe8a-047ba3c947ab"
      },
      "execution_count": null,
      "outputs": [
        {
          "output_type": "display_data",
          "data": {
            "text/plain": [
              "Plot with title “Median Home Sale Price - Quarterly”"
            ],
            "image/png": "[encoded data removed]"
          },
          "metadata": {
            "image/png": {
              "width": 420,
              "height": 420
            }
          }
        }
      ]
    },
    {
      "cell_type": "markdown",
      "source": [
        "## Home Ownership Rate - Quarterly (Another interesting thing I found, delete if not useful)"
      ],
      "metadata": {
        "id": "qGpKHRZBwZvW"
      }
    },
    {
      "cell_type": "code",
      "source": [
        "owner_rate_ts <- ts(\n",
        "  owner_rate$RHORUSQ156N,\n",
        "  start = c(1961, 1),\n",
        "  freq = 4\n",
        ")"
      ],
      "metadata": {
        "id": "5j7WHiUzwf9S"
      },
      "execution_count": null,
      "outputs": []
    },
    {
      "cell_type": "code",
      "source": [
        "plot(owner_rate_ts, main = \"Home Ownership Rate - Quarterly\", ylab = \"Rate\")"
      ],
      "metadata": {
        "colab": {
          "base_uri": "https://localhost:8080/"
        },
        "id": "c4kWQ77Aw3dz",
        "outputId": "37b540b2-fd1d-4d42-f1a3-7fe753e11672"
      },
      "execution_count": null,
      "outputs": [
        {
          "output_type": "display_data",
          "data": {
            "text/plain": [
              "Plot with title “Home Ownership Rate - Quarterly”"
            ],
            "image/png": "[encoded data removed]"
          },
          "metadata": {
            "image/png": {
              "width": 420,
              "height": 420
            }
          }
        }
      ]
    },
    {
      "cell_type": "markdown",
      "source": [
        "## Housing Index"
      ],
      "metadata": {
        "id": "tgGPIm6yOrp8"
      }
    },
    {
      "cell_type": "code",
      "source": [
        "housing_index_ts <- ts(\n",
        "  housing_index$CSUSHPINSA,\n",
        "  start = c(1987, 1),\n",
        "  freq = 12\n",
        ")"
      ],
      "metadata": {
        "id": "snX_tGdFOu5W"
      },
      "execution_count": null,
      "outputs": []
    },
    {
      "cell_type": "code",
      "source": [
        "plot(housing_index_ts)"
      ],
      "metadata": {
        "colab": {
          "base_uri": "https://localhost:8080/",
          "height": 437
        },
        "id": "ZXYtVqxRO7u4",
        "outputId": "25cfee61-d4c1-48da-8006-8b605033833f"
      },
      "execution_count": null,
      "outputs": [
        {
          "output_type": "display_data",
          "data": {
            "text/plain": [
              "plot without title"
            ],
            "image/png": "[encoded data removed]"
          },
          "metadata": {
            "image/png": {
              "width": 420,
              "height": 420
            }
          }
        }
      ]
    },
    {
      "cell_type": "markdown",
      "source": [
        "# Combining Datasets\n"
      ],
      "metadata": {
        "id": "h8d_Uk_59wn7"
      }
    },
    {
      "cell_type": "code",
      "source": [
        "cpi_ts <- window(cpi_ts, start = c(1990, 1), end = c(2024, 12))\n",
        "fedfunds_ts <- window(fedfunds_ts, start = c(1990, 1), end = c(2024, 12))\n",
        "unemployment_ts <- window(unemployment_ts, start = c(1990, 1), end = c(2024, 12))\n",
        "ppi_ts <- window(ppi_ts, start = c(1990, 1), end = c(2024, 12))\n",
        "housing_index_ts <- window(housing_index_ts, start = c(1990, 1), end = c(2024, 12))"
      ],
      "metadata": {
        "id": "288KjVkdEAB9"
      },
      "execution_count": null,
      "outputs": []
    },
    {
      "cell_type": "code",
      "source": [
        "combined_df <- data.frame(\n",
        "  Date = seq(as.Date(\"1990-01-01\"), as.Date(\"2024-12-01\"), by = \"month\"),\n",
        "  CPI = as.numeric(cpi_ts),\n",
        "  FedFunds = as.numeric(fedfunds_ts),\n",
        "  Unemployment = as.numeric(unemployment_ts),\n",
        "  PPI = as.numeric(ppi_ts),\n",
        "  HousingIndex = as.numeric(housing_index_ts)\n",
        ")"
      ],
      "metadata": {
        "id": "nJMvdTXjPJq3"
      },
      "execution_count": null,
      "outputs": []
    },
    {
      "cell_type": "code",
      "source": [
        "write.csv(combined_df, \"combined_time_series.csv\", row.names = FALSE)"
      ],
      "metadata": {
        "id": "PPDcqD16PbgY"
      },
      "execution_count": null,
      "outputs": []
    },
    {
      "cell_type": "code",
      "source": [
        "window(ppi_ts, start = c(2024, 1), end = c(2024,12))"
      ],
      "metadata": {
        "colab": {
          "base_uri": "https://localhost:8080/",
          "height": 98
        },
        "id": "bl_StPAhUfsx",
        "outputId": "82bef175-18a4-4ef6-9c90-356dd5c02eda"
      },
      "execution_count": null,
      "outputs": [
        {
          "output_type": "display_data",
          "data": {
            "text/html": [
              "<table class=\"dataframe\">\n",
              "<caption>A Time Series: 1 × 12</caption>\n",
              "<thead>\n",
              "\t<tr><th></th><th scope=col>Jan</th><th scope=col>Feb</th><th scope=col>Mar</th><th scope=col>Apr</th><th scope=col>May</th><th scope=col>Jun</th><th scope=col>Jul</th><th scope=col>Aug</th><th scope=col>Sep</th><th scope=col>Oct</th><th scope=col>Nov</th><th scope=col>Dec</th></tr>\n",
              "</thead>\n",
              "<tbody>\n",
              "\t<tr><th scope=row>2024</th><td>249.178</td><td>249.308</td><td>248.980</td><td>248.583</td><td>246.206</td><td>245.784</td><td>245.434</td><td>251.093</td><td>252.368</td><td>249.119</td><td>246.497</td><td>243.266</td></tr>\n",
              "</tbody>\n",
              "</table>\n"
            ],
            "text/markdown": "\nA Time Series: 1 × 12\n\n| <!--/--> | Jan | Feb | Mar | Apr | May | Jun | Jul | Aug | Sep | Oct | Nov | Dec |\n|---|---|---|---|---|---|---|---|---|---|---|---|---|\n| 2024 | 249.178 | 249.308 | 248.980 | 248.583 | 246.206 | 245.784 | 245.434 | 251.093 | 252.368 | 249.119 | 246.497 | 243.266 |\n\n",
            "text/latex": "A Time Series: 1 × 12\n\\begin{tabular}{r|llllllllllll}\n  & Jan & Feb & Mar & Apr & May & Jun & Jul & Aug & Sep & Oct & Nov & Dec\\\\\n\\hline\n\t2024 & 249.178 & 249.308 & 248.980 & 248.583 & 246.206 & 245.784 & 245.434 & 251.093 & 252.368 & 249.119 & 246.497 & 243.266\\\\\n\\end{tabular}\n",
            "text/plain": [
              "     Jan     Feb     Mar     Apr     May     Jun     Jul     Aug     Sep    \n",
              "2024 249.178 249.308 248.980 248.583 246.206 245.784 245.434 251.093 252.368\n",
              "     Oct     Nov     Dec    \n",
              "2024 249.119 246.497 243.266"
            ]
          },
          "metadata": {}
        }
      ]
    }
  ]
}